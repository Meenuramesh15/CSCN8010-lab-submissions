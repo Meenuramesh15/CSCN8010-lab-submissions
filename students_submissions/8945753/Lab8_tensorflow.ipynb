{
 "cells": [
  {
   "cell_type": "markdown",
   "metadata": {},
   "source": [
    "##### Lab 8 Assignment"
   ]
  },
  {
   "cell_type": "markdown",
   "metadata": {},
   "source": [
    "##### Tensorflow"
   ]
  },
  {
   "cell_type": "markdown",
   "metadata": {},
   "source": [
    "###### Dot Product"
   ]
  },
  {
   "cell_type": "code",
   "execution_count": 1,
   "metadata": {},
   "outputs": [
    {
     "name": "stdout",
     "output_type": "stream",
     "text": [
      "Dot Product: \n",
      " tf.Tensor(105, shape=(), dtype=int32)\n"
     ]
    }
   ],
   "source": [
    "import tensorflow as tf\n",
    "\n",
    "v1 = []\n",
    "v2 = []\n",
    "\n",
    "for i in range(3):\n",
    "    v1.append(int(input(\"Enter {} element of the vector 1: \" .format(i + 1))))\n",
    "\n",
    "for i in range(3):\n",
    "    v2.append(int(input(\"Enter {} element of the vector 2: \" .format(i + 1))))\n",
    "\n",
    "v1 = tf.constant(v1)\n",
    "v2 = tf.constant(v2)\n",
    "\n",
    "dot_product = tf.tensordot(v1, v2, axes=1)\n",
    "print(\"Dot Product: \\n\", dot_product)"
   ]
  },
  {
   "cell_type": "markdown",
   "metadata": {},
   "source": [
    "###### Matrix Multiplication"
   ]
  },
  {
   "cell_type": "code",
   "execution_count": 2,
   "metadata": {},
   "outputs": [
    {
     "name": "stdout",
     "output_type": "stream",
     "text": [
      "\n",
      " The product of the two matrices is:\n",
      "  tf.Tensor(\n",
      "[[53 32]\n",
      " [44 30]], shape=(2, 2), dtype=int32)\n"
     ]
    }
   ],
   "source": [
    "m1 = []\n",
    "m2 = []\n",
    "\n",
    "for i in range(2):\n",
    "    row = []\n",
    "    for j in range(2):\n",
    "        row.append(int(input(\"Enter the element at ({},{}) of the matrix 1: \" .format(i,j))))\n",
    "    m1.append(row)\n",
    "\n",
    "for i in range(2):\n",
    "    row = []\n",
    "    for j in range(2):\n",
    "        row.append(int(input(\"Enter the element at ({},{}) of the matrix 2: \" .format(i,j))))\n",
    "    m2.append(row)\n",
    "\n",
    "\n",
    "m1 = tf.constant(m1)\n",
    "m2 = tf.constant(m2)\n",
    "matrix_product = tf.matmul(m1, m2)\n",
    "\n",
    "\n",
    "print(\"\\n The product of the two matrices is:\\n \", matrix_product)"
   ]
  }
 ],
 "metadata": {
  "kernelspec": {
   "display_name": "tensorflow_cpu",
   "language": "python",
   "name": "tensorflow_cpu"
  },
  "language_info": {
   "codemirror_mode": {
    "name": "ipython",
    "version": 3
   },
   "file_extension": ".py",
   "mimetype": "text/x-python",
   "name": "python",
   "nbconvert_exporter": "python",
   "pygments_lexer": "ipython3",
   "version": "3.11.6"
  }
 },
 "nbformat": 4,
 "nbformat_minor": 2
}
