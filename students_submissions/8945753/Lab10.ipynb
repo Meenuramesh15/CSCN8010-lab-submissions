{
 "cells": [
  {
   "cell_type": "markdown",
   "metadata": {},
   "source": [
    "#### Lab 10"
   ]
  },
  {
   "cell_type": "code",
   "execution_count": 30,
   "metadata": {},
   "outputs": [
    {
     "name": "stdout",
     "output_type": "stream",
     "text": [
      "Found 744 images belonging to 3 classes.\n"
     ]
    },
    {
     "name": "stdout",
     "output_type": "stream",
     "text": [
      "Found 15 images belonging to 3 classes.\n",
      "Found 15 images belonging to 3 classes.\n"
     ]
    }
   ],
   "source": [
    "from keras.preprocessing.image import ImageDataGenerator\n",
    "\n",
    "# Define the directories for the training, validation, and test sets\n",
    "train_dir = \"C:/Users/meenu/AIML/ML/Lab_10/train\"\n",
    "validation_dir = \"C:/Users/meenu/AIML/ML/Lab_10/valid\"\n",
    "test_dir = \"C:/Users/meenu/AIML/ML/Lab_10/test\"\n",
    "\n",
    "\n",
    "train_datagen = ImageDataGenerator(\n",
    "    rescale=1./255,\n",
    "    rotation_range=40,\n",
    "    width_shift_range=0.2,\n",
    "    height_shift_range=0.2,\n",
    "    shear_range=0.2,\n",
    "    zoom_range=0.2,\n",
    "    horizontal_flip=True,\n",
    "    fill_mode='nearest'\n",
    ")\n",
    "\n",
    "test_datagen = ImageDataGenerator(\n",
    "    rescale=1./255,\n",
    "    rotation_range=40,\n",
    "    width_shift_range=0.2,\n",
    "    height_shift_range=0.2,\n",
    "    shear_range=0.2,\n",
    "    zoom_range=0.2,\n",
    "    horizontal_flip=True,\n",
    "    fill_mode='nearest'\n",
    ")\n",
    "\n",
    "validation_datagen = ImageDataGenerator(rescale=1./255)\n",
    "\n",
    "\n",
    "batch_size = 32\n",
    "\n",
    "\n",
    "train_generator = train_datagen.flow_from_directory(\n",
    "    train_dir, \n",
    "    target_size=(150, 150),  \n",
    "    batch_size=batch_size,\n",
    "    class_mode='categorical'  \n",
    ")\n",
    "\n",
    "\n",
    "validation_generator = validation_datagen.flow_from_directory(\n",
    "    validation_dir,\n",
    "    target_size=(150, 150),\n",
    "    batch_size=batch_size,\n",
    "    class_mode='categorical'\n",
    ")\n",
    "test_generator = test_datagen.flow_from_directory(\n",
    "    test_dir, \n",
    "    target_size=(150, 150),  \n",
    "    batch_size=batch_size,\n",
    "    class_mode='categorical'  \n",
    ")\n"
   ]
  },
  {
   "cell_type": "code",
   "execution_count": 27,
   "metadata": {},
   "outputs": [],
   "source": [
    "import os\n",
    "import shutil\n",
    "from keras.preprocessing.image import ImageDataGenerator\n",
    "\n",
    "\n",
    "train_dir = \"C:/Users/meenu/AIML/ML/Lab_10/train\"\n",
    "validation_dir = \"C:/Users/meenu/AIML/ML/Lab_10/valid\"\n",
    "test_dir = \"C:/Users/meenu/AIML/ML/Lab_10/test\"\n",
    "\n",
    "classes = os.listdir(train_dir)\n",
    "\n",
    "\n",
    "class_image_counts = {}\n",
    "\n",
    "\n",
    "for class_name in classes:\n",
    "    class_path = os.path.join(train_dir, class_name)\n",
    "    num_images = len(os.listdir(class_path))\n",
    "    class_image_counts[class_name] = num_images\n",
    "\n",
    "\n",
    "sorted_classes = sorted(class_image_counts, key=class_image_counts.get, reverse=True)\n",
    "\n",
    "\n",
    "top_classes = sorted_classes[:3]\n",
    "top_classes\n",
    "\n"
   ]
  },
  {
   "cell_type": "code",
   "execution_count": 29,
   "metadata": {},
   "outputs": [],
   "source": [
    "\n",
    "\n",
    "train_dir = \"C:/Users/meenu/AIML/ML/Lab_10/train\"\n",
    "validation_dir = \"C:/Users/meenu/AIML/ML/Lab_10/valid\"\n",
    "test_dir = \"C:/Users/meenu/AIML/ML/Lab_10/test\"\n",
    "\n",
    "\n",
    "def move_images_to_class_directories(source_dir, destination_dir, top_classes):\n",
    "    classes = os.listdir(source_dir)\n",
    "    for class_name in classes:\n",
    "        if class_name in top_classes:\n",
    "            class_path = os.path.join(source_dir, class_name)\n",
    "            image_files = os.listdir(class_path)\n",
    "            for image_file in image_files:\n",
    "                src = os.path.join(class_path, image_file)\n",
    "                dst = os.path.join(destination_dir, class_name, image_file)\n",
    "                os.makedirs(os.path.join(destination_dir, class_name), exist_ok=True)\n",
    "                shutil.move(src, dst)\n",
    "    for class_name in classes:\n",
    "        if class_name not in top_classes:\n",
    "            class_path = os.path.join(source_dir, class_name)\n",
    "            shutil.rmtree(class_path)\n",
    "\n",
    "\n",
    "classes = os.listdir(train_dir)\n",
    "\n",
    "class_image_counts = {}\n",
    "\n",
    "\n",
    "for class_name in classes:\n",
    "    class_path = os.path.join(train_dir, class_name)\n",
    "    num_images = len(os.listdir(class_path))\n",
    "    class_image_counts[class_name] = num_images\n",
    "\n",
    "\n",
    "sorted_classes = sorted(class_image_counts, key=class_image_counts.get, reverse=True)\n",
    "\n",
    "top_classes = sorted_classes[:3]\n",
    "\n",
    "\n",
    "move_images_to_class_directories(train_dir, train_dir, top_classes)\n",
    "\n",
    "\n",
    "move_images_to_class_directories(validation_dir, validation_dir, top_classes)\n",
    "\n",
    "\n",
    "move_images_to_class_directories(test_dir, test_dir, top_classes)\n"
   ]
  },
  {
   "cell_type": "code",
   "execution_count": 31,
   "metadata": {},
   "outputs": [
    {
     "name": "stderr",
     "output_type": "stream",
     "text": [
      "c:\\Users\\meenu\\AIML\\ML\\CSCN8010\\venv\\tensorflow_cpu\\Lib\\site-packages\\keras\\preprocessing\\image.py:1451: UserWarning: This ImageDataGenerator specifies `zca_whitening` which overrides setting of`featurewise_std_normalization`.\n",
      "  warnings.warn(\n"
     ]
    }
   ],
   "source": [
    "\n",
    "train_datagen = ImageDataGenerator(\n",
    "    rescale=1./255,\n",
    "    rotation_range=40,\n",
    "    width_shift_range=0.2,\n",
    "    height_shift_range=0.2,\n",
    "    shear_range=0.2,\n",
    "    zoom_range=0.2,\n",
    "    horizontal_flip=True,\n",
    "    fill_mode='nearest',\n",
    "    brightness_range=[0.5, 1.5],  \n",
    "    channel_shift_range=100.0,  \n",
    "    vertical_flip=True, \n",
    "    featurewise_center=True,  \n",
    "    featurewise_std_normalization=True, \n",
    "    zca_whitening=True  \n",
    ")\n"
   ]
  },
  {
   "cell_type": "code",
   "execution_count": 33,
   "metadata": {},
   "outputs": [
    {
     "name": "stdout",
     "output_type": "stream",
     "text": [
      "Model: \"model_7\"\n",
      "_________________________________________________________________\n",
      " Layer (type)                Output Shape              Param #   \n",
      "=================================================================\n",
      " input_8 (InputLayer)        [(None, 150, 150, 3)]     0         \n",
      "                                                                 \n",
      " block1_conv1 (Conv2D)       (None, 150, 150, 64)      1792      \n",
      "                                                                 \n",
      " block1_conv2 (Conv2D)       (None, 150, 150, 64)      36928     \n",
      "                                                                 \n",
      " block1_pool (MaxPooling2D)  (None, 75, 75, 64)        0         \n",
      "                                                                 \n",
      " block2_conv1 (Conv2D)       (None, 75, 75, 128)       73856     \n",
      "                                                                 \n",
      " block2_conv2 (Conv2D)       (None, 75, 75, 128)       147584    \n",
      "                                                                 \n",
      " block2_pool (MaxPooling2D)  (None, 37, 37, 128)       0         \n",
      "                                                                 \n",
      " block3_conv1 (Conv2D)       (None, 37, 37, 256)       295168    \n",
      "                                                                 \n",
      " block3_conv2 (Conv2D)       (None, 37, 37, 256)       590080    \n",
      "                                                                 \n",
      " block3_conv3 (Conv2D)       (None, 37, 37, 256)       590080    \n",
      "                                                                 \n",
      " block3_pool (MaxPooling2D)  (None, 18, 18, 256)       0         \n",
      "                                                                 \n",
      " block4_conv1 (Conv2D)       (None, 18, 18, 512)       1180160   \n",
      "                                                                 \n",
      " block4_conv2 (Conv2D)       (None, 18, 18, 512)       2359808   \n",
      "                                                                 \n",
      " block4_conv3 (Conv2D)       (None, 18, 18, 512)       2359808   \n",
      "                                                                 \n",
      " block4_pool (MaxPooling2D)  (None, 9, 9, 512)         0         \n",
      "                                                                 \n",
      " block5_conv1 (Conv2D)       (None, 9, 9, 512)         2359808   \n",
      "                                                                 \n",
      " block5_conv2 (Conv2D)       (None, 9, 9, 512)         2359808   \n",
      "                                                                 \n",
      " block5_conv3 (Conv2D)       (None, 9, 9, 512)         2359808   \n",
      "                                                                 \n",
      " block5_pool (MaxPooling2D)  (None, 4, 4, 512)         0         \n",
      "                                                                 \n",
      " global_average_pooling2d_7   (None, 512)              0         \n",
      " (GlobalAveragePooling2D)                                        \n",
      "                                                                 \n",
      " dense_14 (Dense)            (None, 256)               131328    \n",
      "                                                                 \n",
      " dense_15 (Dense)            (None, 3)                 771       \n",
      "                                                                 \n",
      "=================================================================\n",
      "Total params: 14,846,787\n",
      "Trainable params: 132,099\n",
      "Non-trainable params: 14,714,688\n",
      "_________________________________________________________________\n"
     ]
    }
   ],
   "source": [
    "from keras.applications import VGG16\n",
    "from keras.models import Model\n",
    "from keras.layers import Dense, GlobalAveragePooling2D\n",
    "\n",
    "\n",
    "base_model = VGG16(weights='imagenet', include_top=False, input_shape=(150, 150, 3))\n",
    "\n",
    "\n",
    "x = base_model.output\n",
    "x = GlobalAveragePooling2D()(x)\n",
    "\n",
    "\n",
    "x = Dense(256, activation='relu')(x)\n",
    "\n",
    "\n",
    "predictions = Dense(3, activation='softmax')(x)\n",
    "\n",
    "\n",
    "model = Model(inputs=base_model.input, outputs=predictions)\n",
    "\n",
    "\n",
    "for layer in base_model.layers:\n",
    "    layer.trainable = False\n",
    "\n",
    "\n",
    "model.compile(optimizer='adam', loss='categorical_crossentropy', metrics=['accuracy'])\n",
    "\n",
    "\n",
    "model.summary()\n"
   ]
  },
  {
   "cell_type": "code",
   "execution_count": 34,
   "metadata": {},
   "outputs": [
    {
     "name": "stderr",
     "output_type": "stream",
     "text": [
      "c:\\Users\\meenu\\AIML\\ML\\CSCN8010\\venv\\tensorflow_cpu\\Lib\\site-packages\\keras\\optimizers\\legacy\\adam.py:117: UserWarning: The `lr` argument is deprecated, use `learning_rate` instead.\n",
      "  super().__init__(name, **kwargs)\n"
     ]
    },
    {
     "name": "stdout",
     "output_type": "stream",
     "text": [
      "Epoch 1/10\n",
      "24/24 [==============================] - 26s 1s/step - loss: 1.0528 - accuracy: 0.4785 - val_loss: 0.9352 - val_accuracy: 0.8000\n",
      "Epoch 2/10\n",
      "24/24 [==============================] - 22s 921ms/step - loss: 0.9129 - accuracy: 0.7352 - val_loss: 0.7802 - val_accuracy: 1.0000\n",
      "Epoch 3/10\n",
      "24/24 [==============================] - 25s 1s/step - loss: 0.8119 - accuracy: 0.8091 - val_loss: 0.6542 - val_accuracy: 1.0000\n",
      "Epoch 4/10\n",
      "24/24 [==============================] - 25s 1s/step - loss: 0.7079 - accuracy: 0.8548 - val_loss: 0.5347 - val_accuracy: 1.0000\n",
      "Epoch 5/10\n",
      "24/24 [==============================] - 25s 1s/step - loss: 0.6268 - accuracy: 0.8723 - val_loss: 0.4618 - val_accuracy: 1.0000\n",
      "Epoch 6/10\n",
      "24/24 [==============================] - 25s 1s/step - loss: 0.5708 - accuracy: 0.8710 - val_loss: 0.3955 - val_accuracy: 1.0000\n",
      "Epoch 7/10\n",
      "24/24 [==============================] - 25s 1s/step - loss: 0.5151 - accuracy: 0.8925 - val_loss: 0.3503 - val_accuracy: 1.0000\n",
      "Epoch 8/10\n",
      "24/24 [==============================] - 25s 1s/step - loss: 0.4680 - accuracy: 0.9005 - val_loss: 0.3108 - val_accuracy: 1.0000\n",
      "Epoch 9/10\n",
      "24/24 [==============================] - 27s 1s/step - loss: 0.4306 - accuracy: 0.8831 - val_loss: 0.2751 - val_accuracy: 1.0000\n",
      "Epoch 10/10\n",
      "24/24 [==============================] - 27s 1s/step - loss: 0.3921 - accuracy: 0.9194 - val_loss: 0.2391 - val_accuracy: 1.0000\n"
     ]
    }
   ],
   "source": [
    "# Compile the model\n",
    "model.compile(optimizer=Adam(lr=0.0001), loss='categorical_crossentropy', metrics=['accuracy'])\n",
    "\n",
    "# Train the model using the data generators\n",
    "history = model.fit(\n",
    "    train_generator,\n",
    "    steps_per_epoch=len(train_generator),\n",
    "    epochs=10,\n",
    "    validation_data=validation_generator,\n",
    "    validation_steps=len(validation_generator)\n",
    ")"
   ]
  },
  {
   "cell_type": "code",
   "execution_count": 35,
   "metadata": {},
   "outputs": [
    {
     "name": "stdout",
     "output_type": "stream",
     "text": [
      "1/1 [==============================] - 1s 638ms/step - loss: 0.2194 - accuracy: 1.0000\n",
      "Test accuracy: 1.0\n"
     ]
    }
   ],
   "source": [
    "\n",
    "test_loss, test_accuracy = model.evaluate(test_generator)\n",
    "print(f'Test accuracy: {test_accuracy}')"
   ]
  },
  {
   "cell_type": "code",
   "execution_count": 44,
   "metadata": {},
   "outputs": [
    {
     "name": "stdout",
     "output_type": "stream",
     "text": [
      "1/1 [==============================] - 1s 539ms/step - loss: 0.2848 - accuracy: 1.0000\n",
      "Test Accuracy: 1.0\n",
      "1/1 [==============================] - 1s 592ms/step\n",
      "                  precision    recall  f1-score   support\n",
      "\n",
      "D-ARNAUDS BARBET       0.20      0.20      0.20         5\n",
      "     HOUSE FINCH       0.40      0.40      0.40         5\n",
      "    RUFOUS TREPE       0.20      0.20      0.20         5\n",
      "\n",
      "        accuracy                           0.27        15\n",
      "       macro avg       0.27      0.27      0.27        15\n",
      "    weighted avg       0.27      0.27      0.27        15\n",
      "\n",
      "Confusion Matrix:\n",
      "[[1 1 3]\n",
      " [2 2 1]\n",
      " [2 2 1]]\n"
     ]
    }
   ],
   "source": [
    "from sklearn.metrics import classification_report, confusion_matrix\n",
    "import numpy as np\n",
    "import matplotlib.pyplot as plt\n",
    "from sklearn.metrics import precision_recall_curve,precision_recall_fscore_support,f1_score\n",
    "\n",
    "\n",
    "# Evaluate the model on the test set\n",
    "test_loss, test_accuracy = model.evaluate(test_generator, steps=len(test_generator))\n",
    "print(\"Test Accuracy:\", test_accuracy)\n",
    "\n",
    "\n",
    "Y_test = test_generator.classes\n",
    "Y_pred = model.predict(test_generator, steps=len(test_generator))\n",
    "y_pred = np.argmax(Y_pred, axis=1)\n",
    "\n",
    "# Generate and print the classification report\n",
    "print(classification_report(Y_test, y_pred, target_names=test_generator.class_indices))\n",
    "\n",
    "# Generate and print the confusion matrix\n",
    "conf_matrix = confusion_matrix(Y_test, y_pred)\n",
    "print(\"Confusion Matrix:\")\n",
    "print(conf_matrix)\n",
    "\n"
   ]
  },
  {
   "cell_type": "code",
   "execution_count": 40,
   "metadata": {},
   "outputs": [
    {
     "data": {
      "image/png": "[encoded data removed]",
      "text/plain": [
       "<Figure size 640x480 with 1 Axes>"
      ]
     },
     "metadata": {},
     "output_type": "display_data"
    }
   ],
   "source": [
    "training_accuracy = history.history['accuracy']\n",
    "validation_accuracy = history.history['val_accuracy']\n",
    "\n",
    "epochs = range(1, len(training_accuracy) + 1)\n",
    "plt.plot(epochs, training_accuracy, 'bo', label='Training accuracy')\n",
    "plt.plot(epochs, validation_accuracy, 'b', label='Validation accuracy')\n",
    "plt.title('Model Accuracy')\n",
    "plt.xlabel('Epochs')\n",
    "plt.ylabel('Accuracy')\n",
    "plt.legend()\n",
    "plt.show()\n"
   ]
  },
  {
   "cell_type": "code",
   "execution_count": 41,
   "metadata": {},
   "outputs": [
    {
     "data": {
      "image/png": "[encoded data removed]",
      "text/plain": [
       "<Figure size 640x480 with 1 Axes>"
      ]
     },
     "metadata": {},
     "output_type": "display_data"
    }
   ],
   "source": [
    "\n",
    "training_loss = history.history['loss']\n",
    "validation_loss = history.history['val_loss']\n",
    "\n",
    "epochs = range(1, len(training_loss) + 1)\n",
    "plt.plot(epochs, training_loss, 'bo', label='Training loss')\n",
    "plt.plot(epochs, validation_loss, 'b', label='Validation loss')\n",
    "plt.title('Training and validation loss')\n",
    "plt.xlabel('Epochs')\n",
    "plt.ylabel('Loss')\n",
    "plt.legend()\n",
    "plt.show()\n"
   ]
  },
  {
   "cell_type": "code",
   "execution_count": 42,
   "metadata": {},
   "outputs": [
    {
     "data": {
      "image/png": "[encoded data removed]",
      "text/plain": [
       "<Figure size 640x480 with 1 Axes>"
      ]
     },
     "metadata": {},
     "output_type": "display_data"
    }
   ],
   "source": [
    "\n",
    "validation_loss = history.history['val_loss']\n",
    "\n",
    "# Plot the validation loss values\n",
    "epochs = range(1, len(validation_loss) + 1)\n",
    "plt.plot(epochs, validation_loss, label='Validation loss', color='b')\n",
    "plt.title('Validation loss')\n",
    "plt.xlabel('Epochs')\n",
    "plt.ylabel('Loss')\n",
    "plt.legend()\n",
    "plt.show()\n"
   ]
  },
  {
   "cell_type": "code",
   "execution_count": 59,
   "metadata": {},
   "outputs": [],
   "source": [
    "\n",
    "\n",
    "true_binary_labels = []\n",
    "for cls in Y_test:\n",
    "    binary_label = np.zeros_like(Y_test)\n",
    "    binary_label[cls] = 1\n",
    "    true_binary_labels.append(binary_label)\n",
    "\n",
    "true_binary_labels = np.array(true_binary_labels)\n"
   ]
  },
  {
   "cell_type": "code",
   "execution_count": 63,
   "metadata": {},
   "outputs": [
    {
     "name": "stdout",
     "output_type": "stream",
     "text": [
      "AUC for RUFOUS TREPE: 0.34\n",
      "AUC for HOUSE FINCH: 0.42\n",
      "AUC for D-ARNAUDS BARBET: 0.44000000000000006\n"
     ]
    }
   ],
   "source": [
    "from sklearn.metrics import roc_auc_score\n",
    "\n",
    "# Calculate the AUC for each class\n",
    "auc_scores = []\n",
    "for i in range(len(top_classes)):\n",
    "    auc = roc_auc_score(true_binary_labels[:, i], Y_pred[:, i])\n",
    "    auc_scores.append(auc)\n",
    "    print(\"AUC for {}: {}\".format(top_classes[i], auc_scores[i]))\n",
    "\n",
    "\n"
   ]
  },
  {
   "cell_type": "markdown",
   "metadata": {},
   "source": [
    "*  RUFOUS TREPE: AUC score of 0.34 indicates relatively weaker model performance in identifying RUFOUS TREPE instances.\n",
    "\n",
    "*  HOUSE FINCH: AUC score of 0.42 suggests room for improvement in the model's HOUSE FINCH classification performance.\n",
    "\n",
    "*  D-ARNAUDS BARBET: AUC score of 0.44 reflects the model's effectiveness in distinguishing D-ARNAUDS BARBET instances, but there is potential for enhancement."
   ]
  }
 ],
 "metadata": {
  "kernelspec": {
   "display_name": "tensorflow_cpu",
   "language": "python",
   "name": "tensorflow_cpu"
  },
  "language_info": {
   "codemirror_mode": {
    "name": "ipython",
    "version": 3
   },
   "file_extension": ".py",
   "mimetype": "text/x-python",
   "name": "python",
   "nbconvert_exporter": "python",
   "pygments_lexer": "ipython3",
   "version": "3.11.6"
  }
 },
 "nbformat": 4,
 "nbformat_minor": 2
}
