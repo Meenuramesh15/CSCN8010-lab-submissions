{
 "cells": [
  {
   "cell_type": "markdown",
   "metadata": {},
   "source": [
    "##### Lab 8 Assignment"
   ]
  },
  {
   "cell_type": "markdown",
   "metadata": {},
   "source": [
    "##### Pytorch"
   ]
  },
  {
   "cell_type": "markdown",
   "metadata": {},
   "source": [
    "###### Dot Product"
   ]
  },
  {
   "cell_type": "code",
   "execution_count": 4,
   "metadata": {},
   "outputs": [
    {
     "name": "stdout",
     "output_type": "stream",
     "text": [
      "Dot Product:  tensor(44)\n"
     ]
    }
   ],
   "source": [
    "import torch\n",
    "\n",
    "v1 = []\n",
    "v2 = []\n",
    "\n",
    "\n",
    "for i in range(3):\n",
    "    v1.append(int(input(\"Enter {} element of the vector 1: \" .format(i + 1))))\n",
    "\n",
    "for i in range(3):\n",
    "    v2.append(int(input(\"Enter {} element of the second vector: \" .format(i + 1))))\n",
    "\n",
    "v1 = torch.tensor(v1)\n",
    "v2 = torch.tensor(v2)\n",
    "\n",
    "dot_product = torch.dot(v1, v2)\n",
    "print(\"Dot Product: \", dot_product)"
   ]
  },
  {
   "cell_type": "markdown",
   "metadata": {},
   "source": [
    "###### Matrix Multiplication"
   ]
  },
  {
   "cell_type": "code",
   "execution_count": 5,
   "metadata": {},
   "outputs": [
    {
     "name": "stdout",
     "output_type": "stream",
     "text": [
      " Matrix Product:\n",
      "  tensor([[40, 33],\n",
      "        [23, 16]])\n"
     ]
    }
   ],
   "source": [
    "m1 = []\n",
    "m2 = []\n",
    "\n",
    "for i in range(2):\n",
    "    row = []\n",
    "    for j in range(2):\n",
    "        row.append(int(input(\"Enter the element at ({},{}) of the matrix 1: \" .format(i,j))))\n",
    "    m1.append(row)\n",
    "\n",
    "for i in range(2):\n",
    "    row = []\n",
    "    for j in range(2):\n",
    "        row.append(int(input(\"Enter the element at ({},{}) of the matrix 2: \" .format(i,j))))\n",
    "    m2.append(row)\n",
    "\n",
    "m1 = torch.tensor(m1)\n",
    "m2 = torch.tensor(m2)\n",
    "matrix_product = torch.matmul(m1, m2)\n",
    "\n",
    "print(\" Matrix Product:\\n \", matrix_product)"
   ]
  }
 ],
 "metadata": {
  "kernelspec": {
   "display_name": "pytorch_cpu",
   "language": "python",
   "name": "python3"
  },
  "language_info": {
   "codemirror_mode": {
    "name": "ipython",
    "version": 3
   },
   "file_extension": ".py",
   "mimetype": "text/x-python",
   "name": "python",
   "nbconvert_exporter": "python",
   "pygments_lexer": "ipython3",
   "version": "3.11.6"
  }
 },
 "nbformat": 4,
 "nbformat_minor": 2
}
